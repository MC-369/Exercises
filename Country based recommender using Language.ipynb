{
 "cells": [
  {
   "cell_type": "code",
   "execution_count": 19,
   "id": "f29eb46e",
   "metadata": {},
   "outputs": [],
   "source": [
    "import numpy as np\n",
    "import pandas as pd\n",
    "from sklearn.feature_extraction.text import TfidfVectorizer\n",
    "from sklearn.metrics.pairwise import linear_kernel"
   ]
  },
  {
   "cell_type": "code",
   "execution_count": 20,
   "id": "65e9f5d7",
   "metadata": {},
   "outputs": [],
   "source": [
    "data = pd.read_csv(\"\\computer vision\\datasets\\countries-languages.csv\")"
   ]
  },
  {
   "cell_type": "code",
   "execution_count": 21,
   "id": "0adea1d0",
   "metadata": {},
   "outputs": [
    {
     "data": {
      "text/html": [
       "<div>\n",
       "<style scoped>\n",
       "    .dataframe tbody tr th:only-of-type {\n",
       "        vertical-align: middle;\n",
       "    }\n",
       "\n",
       "    .dataframe tbody tr th {\n",
       "        vertical-align: top;\n",
       "    }\n",
       "\n",
       "    .dataframe thead th {\n",
       "        text-align: right;\n",
       "    }\n",
       "</style>\n",
       "<table border=\"1\" class=\"dataframe\">\n",
       "  <thead>\n",
       "    <tr style=\"text-align: right;\">\n",
       "      <th></th>\n",
       "      <th>Country</th>\n",
       "      <th>Languages Spoken</th>\n",
       "    </tr>\n",
       "  </thead>\n",
       "  <tbody>\n",
       "    <tr>\n",
       "      <th>0</th>\n",
       "      <td>Afghanistan</td>\n",
       "      <td>Dari Persian, Pashtu (both official), other Tu...</td>\n",
       "    </tr>\n",
       "    <tr>\n",
       "      <th>1</th>\n",
       "      <td>Albania</td>\n",
       "      <td>Albanian (Tosk is the official dialect), Greek</td>\n",
       "    </tr>\n",
       "    <tr>\n",
       "      <th>2</th>\n",
       "      <td>Algeria</td>\n",
       "      <td>Arabic (official), French, Berber dialects</td>\n",
       "    </tr>\n",
       "    <tr>\n",
       "      <th>3</th>\n",
       "      <td>Andorra</td>\n",
       "      <td>Catalán (official), French, Castilian, Portuguese</td>\n",
       "    </tr>\n",
       "    <tr>\n",
       "      <th>4</th>\n",
       "      <td>Angola</td>\n",
       "      <td>Portuguese (official), Bantu and other African...</td>\n",
       "    </tr>\n",
       "    <tr>\n",
       "      <th>...</th>\n",
       "      <td>...</td>\n",
       "      <td>...</td>\n",
       "    </tr>\n",
       "    <tr>\n",
       "      <th>193</th>\n",
       "      <td>Vietnam</td>\n",
       "      <td>Vietnamese (official); English (increasingly f...</td>\n",
       "    </tr>\n",
       "    <tr>\n",
       "      <th>194</th>\n",
       "      <td>Western Sahara (proposed state)</td>\n",
       "      <td>Hassaniya Arabic, Moroccan Arabic</td>\n",
       "    </tr>\n",
       "    <tr>\n",
       "      <th>195</th>\n",
       "      <td>Yemen</td>\n",
       "      <td>Arabic</td>\n",
       "    </tr>\n",
       "    <tr>\n",
       "      <th>196</th>\n",
       "      <td>Zambia</td>\n",
       "      <td>English (official); major vernaculars: Bemba, ...</td>\n",
       "    </tr>\n",
       "    <tr>\n",
       "      <th>197</th>\n",
       "      <td>Zimbabwe</td>\n",
       "      <td>English (official), Shona, Ndebele (Sindebele)...</td>\n",
       "    </tr>\n",
       "  </tbody>\n",
       "</table>\n",
       "<p>198 rows × 2 columns</p>\n",
       "</div>"
      ],
      "text/plain": [
       "                             Country  \\\n",
       "0                        Afghanistan   \n",
       "1                            Albania   \n",
       "2                            Algeria   \n",
       "3                            Andorra   \n",
       "4                             Angola   \n",
       "..                               ...   \n",
       "193                          Vietnam   \n",
       "194  Western Sahara (proposed state)   \n",
       "195                            Yemen   \n",
       "196                           Zambia   \n",
       "197                         Zimbabwe   \n",
       "\n",
       "                                      Languages Spoken  \n",
       "0    Dari Persian, Pashtu (both official), other Tu...  \n",
       "1       Albanian (Tosk is the official dialect), Greek  \n",
       "2           Arabic (official), French, Berber dialects  \n",
       "3    Catalán (official), French, Castilian, Portuguese  \n",
       "4    Portuguese (official), Bantu and other African...  \n",
       "..                                                 ...  \n",
       "193  Vietnamese (official); English (increasingly f...  \n",
       "194                  Hassaniya Arabic, Moroccan Arabic  \n",
       "195                                             Arabic  \n",
       "196  English (official); major vernaculars: Bemba, ...  \n",
       "197  English (official), Shona, Ndebele (Sindebele)...  \n",
       "\n",
       "[198 rows x 2 columns]"
      ]
     },
     "execution_count": 21,
     "metadata": {},
     "output_type": "execute_result"
    }
   ],
   "source": [
    "data"
   ]
  },
  {
   "cell_type": "code",
   "execution_count": 22,
   "id": "ebe25d15",
   "metadata": {},
   "outputs": [
    {
     "data": {
      "text/plain": [
       "Index(['Country', 'Languages Spoken'], dtype='object')"
      ]
     },
     "execution_count": 22,
     "metadata": {},
     "output_type": "execute_result"
    }
   ],
   "source": [
    "data.columns"
   ]
  },
  {
   "cell_type": "code",
   "execution_count": 23,
   "id": "e70c95f3",
   "metadata": {},
   "outputs": [],
   "source": [
    "data['Languages_Spoken'] = data['Languages Spoken'].fillna('')\n"
   ]
  },
  {
   "cell_type": "code",
   "execution_count": 24,
   "id": "ef28011d",
   "metadata": {},
   "outputs": [],
   "source": [
    "data_new = data.drop(['Languages Spoken'], axis=1, errors='ignore')  # Added errors='ignore' to avoid KeyError if the column does not exist"
   ]
  },
  {
   "cell_type": "code",
   "execution_count": 25,
   "id": "10be010b",
   "metadata": {},
   "outputs": [],
   "source": [
    "s = data_new['Languages_Spoken'].str.split(', ').apply(pd.Series, 1).stack()"
   ]
  },
  {
   "cell_type": "code",
   "execution_count": 26,
   "id": "f414077d",
   "metadata": {},
   "outputs": [],
   "source": [
    "s.index = s.index.droplevel(-1)"
   ]
  },
  {
   "cell_type": "code",
   "execution_count": 27,
   "id": "57aea877",
   "metadata": {},
   "outputs": [],
   "source": [
    "s.name = 'Language_Spoken'"
   ]
  },
  {
   "cell_type": "code",
   "execution_count": 28,
   "id": "03917613",
   "metadata": {},
   "outputs": [],
   "source": [
    "data_new = data_new.join(s)"
   ]
  },
  {
   "cell_type": "code",
   "execution_count": 29,
   "id": "af965916",
   "metadata": {},
   "outputs": [],
   "source": [
    "data_new['Language_Spoken'] = data_new['Language_Spoken'].fillna('')"
   ]
  },
  {
   "cell_type": "code",
   "execution_count": 36,
   "id": "61251ffb",
   "metadata": {},
   "outputs": [
    {
     "data": {
      "text/html": [
       "<div>\n",
       "<style scoped>\n",
       "    .dataframe tbody tr th:only-of-type {\n",
       "        vertical-align: middle;\n",
       "    }\n",
       "\n",
       "    .dataframe tbody tr th {\n",
       "        vertical-align: top;\n",
       "    }\n",
       "\n",
       "    .dataframe thead th {\n",
       "        text-align: right;\n",
       "    }\n",
       "</style>\n",
       "<table border=\"1\" class=\"dataframe\">\n",
       "  <thead>\n",
       "    <tr style=\"text-align: right;\">\n",
       "      <th></th>\n",
       "      <th>Country</th>\n",
       "      <th>Languages_Spoken</th>\n",
       "      <th>Language_Spoken</th>\n",
       "    </tr>\n",
       "  </thead>\n",
       "  <tbody>\n",
       "    <tr>\n",
       "      <th>0</th>\n",
       "      <td>Afghanistan</td>\n",
       "      <td>Dari Persian, Pashtu (both official), other Tu...</td>\n",
       "      <td>Dari Persian</td>\n",
       "    </tr>\n",
       "    <tr>\n",
       "      <th>0</th>\n",
       "      <td>Afghanistan</td>\n",
       "      <td>Dari Persian, Pashtu (both official), other Tu...</td>\n",
       "      <td>Pashtu (both official)</td>\n",
       "    </tr>\n",
       "    <tr>\n",
       "      <th>0</th>\n",
       "      <td>Afghanistan</td>\n",
       "      <td>Dari Persian, Pashtu (both official), other Tu...</td>\n",
       "      <td>other Turkic and minor languages</td>\n",
       "    </tr>\n",
       "    <tr>\n",
       "      <th>1</th>\n",
       "      <td>Albania</td>\n",
       "      <td>Albanian (Tosk is the official dialect), Greek</td>\n",
       "      <td>Albanian (Tosk is the official dialect)</td>\n",
       "    </tr>\n",
       "    <tr>\n",
       "      <th>1</th>\n",
       "      <td>Albania</td>\n",
       "      <td>Albanian (Tosk is the official dialect), Greek</td>\n",
       "      <td>Greek</td>\n",
       "    </tr>\n",
       "    <tr>\n",
       "      <th>...</th>\n",
       "      <td>...</td>\n",
       "      <td>...</td>\n",
       "      <td>...</td>\n",
       "    </tr>\n",
       "    <tr>\n",
       "      <th>196</th>\n",
       "      <td>Zambia</td>\n",
       "      <td>English (official); major vernaculars: Bemba, ...</td>\n",
       "      <td>Tonga; about 70 other indigenous languages</td>\n",
       "    </tr>\n",
       "    <tr>\n",
       "      <th>197</th>\n",
       "      <td>Zimbabwe</td>\n",
       "      <td>English (official), Shona, Ndebele (Sindebele)...</td>\n",
       "      <td>English (official)</td>\n",
       "    </tr>\n",
       "    <tr>\n",
       "      <th>197</th>\n",
       "      <td>Zimbabwe</td>\n",
       "      <td>English (official), Shona, Ndebele (Sindebele)...</td>\n",
       "      <td>Shona</td>\n",
       "    </tr>\n",
       "    <tr>\n",
       "      <th>197</th>\n",
       "      <td>Zimbabwe</td>\n",
       "      <td>English (official), Shona, Ndebele (Sindebele)...</td>\n",
       "      <td>Ndebele (Sindebele)</td>\n",
       "    </tr>\n",
       "    <tr>\n",
       "      <th>197</th>\n",
       "      <td>Zimbabwe</td>\n",
       "      <td>English (official), Shona, Ndebele (Sindebele)...</td>\n",
       "      <td>numerous minor tribal dialects</td>\n",
       "    </tr>\n",
       "  </tbody>\n",
       "</table>\n",
       "<p>697 rows × 3 columns</p>\n",
       "</div>"
      ],
      "text/plain": [
       "         Country                                   Languages_Spoken  \\\n",
       "0    Afghanistan  Dari Persian, Pashtu (both official), other Tu...   \n",
       "0    Afghanistan  Dari Persian, Pashtu (both official), other Tu...   \n",
       "0    Afghanistan  Dari Persian, Pashtu (both official), other Tu...   \n",
       "1        Albania     Albanian (Tosk is the official dialect), Greek   \n",
       "1        Albania     Albanian (Tosk is the official dialect), Greek   \n",
       "..           ...                                                ...   \n",
       "196       Zambia  English (official); major vernaculars: Bemba, ...   \n",
       "197     Zimbabwe  English (official), Shona, Ndebele (Sindebele)...   \n",
       "197     Zimbabwe  English (official), Shona, Ndebele (Sindebele)...   \n",
       "197     Zimbabwe  English (official), Shona, Ndebele (Sindebele)...   \n",
       "197     Zimbabwe  English (official), Shona, Ndebele (Sindebele)...   \n",
       "\n",
       "                                Language_Spoken  \n",
       "0                                  Dari Persian  \n",
       "0                        Pashtu (both official)  \n",
       "0              other Turkic and minor languages  \n",
       "1       Albanian (Tosk is the official dialect)  \n",
       "1                                         Greek  \n",
       "..                                          ...  \n",
       "196  Tonga; about 70 other indigenous languages  \n",
       "197                          English (official)  \n",
       "197                                       Shona  \n",
       "197                         Ndebele (Sindebele)  \n",
       "197              numerous minor tribal dialects  \n",
       "\n",
       "[697 rows x 3 columns]"
      ]
     },
     "execution_count": 36,
     "metadata": {},
     "output_type": "execute_result"
    }
   ],
   "source": [
    "data_new"
   ]
  },
  {
   "cell_type": "code",
   "execution_count": 30,
   "id": "6d1b5f0b",
   "metadata": {},
   "outputs": [],
   "source": [
    "tfidf = TfidfVectorizer(stop_words='english')\n",
    "tfidf_matrix = tfidf.fit_transform(data_new['Language_Spoken'])"
   ]
  },
  {
   "cell_type": "code",
   "execution_count": 31,
   "id": "3644ad3e",
   "metadata": {},
   "outputs": [],
   "source": [
    "cosine_sim = linear_kernel(tfidf_matrix, tfidf_matrix)"
   ]
  },
  {
   "cell_type": "code",
   "execution_count": 32,
   "id": "3814baf5",
   "metadata": {},
   "outputs": [],
   "source": [
    "indices = pd.Series(data_new.index, index=data_new['Country']).drop_duplicates()"
   ]
  },
  {
   "cell_type": "code",
   "execution_count": 35,
   "id": "ddba57e1",
   "metadata": {},
   "outputs": [],
   "source": [
    "def language_recommender(language, cosine_sim=cosine_sim, df=data_new, indices=indices):\n",
    "    lang_indices = df[df['Language_Spoken'].str.contains(language)].index.tolist()\n",
    "    if not lang_indices:\n",
    "        return []\n",
    "    sim_scores = [np.mean([cosine_sim[i][j] for j in lang_indices]) for i in range(len(df))]\n",
    "    sorted_scores = sorted(list(enumerate(sim_scores)), key=lambda x: x[1], reverse=True)\n",
    "    sorted_scores = sorted_scores[1:11] \n",
    "    country_indices = [i[0] for i in sorted_scores]\n",
    "    return df['Country'].iloc[country_indices]"
   ]
  },
  {
   "cell_type": "code",
   "execution_count": 37,
   "id": "fe25218d",
   "metadata": {},
   "outputs": [
    {
     "data": {
      "text/plain": [
       "185    United Arab Emirates\n",
       "78                     Iran\n",
       "0               Afghanistan\n",
       "0               Afghanistan\n",
       "1                   Albania\n",
       "1                   Albania\n",
       "2                   Algeria\n",
       "2                   Algeria\n",
       "2                   Algeria\n",
       "3                   Andorra\n",
       "Name: Country, dtype: object"
      ]
     },
     "execution_count": 37,
     "metadata": {},
     "output_type": "execute_result"
    }
   ],
   "source": [
    "language_recommender('Dari Persian')"
   ]
  },
  {
   "cell_type": "code",
   "execution_count": null,
   "id": "102be772",
   "metadata": {},
   "outputs": [],
   "source": []
  },
  {
   "cell_type": "code",
   "execution_count": null,
   "id": "e937afc0",
   "metadata": {},
   "outputs": [],
   "source": []
  },
  {
   "cell_type": "code",
   "execution_count": null,
   "id": "4d2cca25",
   "metadata": {},
   "outputs": [],
   "source": []
  },
  {
   "cell_type": "code",
   "execution_count": null,
   "id": "b378653b",
   "metadata": {},
   "outputs": [],
   "source": []
  }
 ],
 "metadata": {
  "kernelspec": {
   "display_name": "Python 3 (ipykernel)",
   "language": "python",
   "name": "python3"
  },
  "language_info": {
   "codemirror_mode": {
    "name": "ipython",
    "version": 3
   },
   "file_extension": ".py",
   "mimetype": "text/x-python",
   "name": "python",
   "nbconvert_exporter": "python",
   "pygments_lexer": "ipython3",
   "version": "3.11.5"
  }
 },
 "nbformat": 4,
 "nbformat_minor": 5
}
