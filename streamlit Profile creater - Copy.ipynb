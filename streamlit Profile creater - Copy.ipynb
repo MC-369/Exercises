import streamlit as st
def create_profile():
    # Create a form for user input
    with st.form("profile_form"):
        st.write("Create your profile")
        # Text input for user name
        name = st.text_input("Name")
        # Text input for user email
        email = st.text_input("Email")
        # Text input for user bio
        bio = st.text_area("Bio")
        # File uploader for user profile picture
        picture = st.file_uploader("Upload a profile picture", type=["jpg", "png"])
        # Submit button for the form
        submit_button = st.form_submit_button("Submit")

        if submit_button:
            st.write("Profile Created:")
            st.write("Name:", name)
            st.write("Email:", email)
            st.write("Bio:", bio)
            if picture is not None:
                # To display the uploaded image
                st.image(picture, caption='Profile Picture')

# Call the function to display the form
create_profile()


